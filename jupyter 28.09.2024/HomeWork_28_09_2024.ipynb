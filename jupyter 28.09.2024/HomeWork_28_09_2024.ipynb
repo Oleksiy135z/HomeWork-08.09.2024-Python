{
 "cells": [
  {
   "cell_type": "code",
   "execution_count": 107,
   "id": "467ac0cc-0783-468f-bbd4-5e6cbbeabcaf",
   "metadata": {},
   "outputs": [],
   "source": [
    "# Завдання:1\n",
    "# Створіть одновимірний масив з елементами від 5 до 15. Змініть форму цього масиву на 2x5. \n",
    "# Отримайте всі елементи, які більші за 10. Порахуйте кількість елементів у вашому масиві, які діляться на 3 без залишку."
   ]
  },
  {
   "cell_type": "code",
   "execution_count": 108,
   "id": "65e56ac3-c799-4dec-b237-37a242954b75",
   "metadata": {},
   "outputs": [],
   "source": [
    "import numpy as np"
   ]
  },
  {
   "cell_type": "code",
   "execution_count": 109,
   "id": "8338e3c6-fa5c-49fd-8c7a-3fb6a3c69b55",
   "metadata": {},
   "outputs": [
    {
     "name": "stdout",
     "output_type": "stream",
     "text": [
      "[ 5  6  7  8  9 10 11 12 13 14]\n"
     ]
    }
   ],
   "source": [
    "arr = np.array([5, 6, 7, 8, 9, 10, 11, 12, 13, 14])\n",
    "print(arr)"
   ]
  },
  {
   "cell_type": "code",
   "execution_count": 110,
   "id": "a906d605-7615-42e7-9c42-1d0089972927",
   "metadata": {},
   "outputs": [
    {
     "name": "stdout",
     "output_type": "stream",
     "text": [
      "[[ 5  6  7  8  9]\n",
      " [10 11 12 13 14]]\n"
     ]
    }
   ],
   "source": [
    "print(arr.reshape(2, 5))"
   ]
  },
  {
   "cell_type": "code",
   "execution_count": 111,
   "id": "a2847b2f-b11a-4dc6-9b75-b7ac49a80674",
   "metadata": {},
   "outputs": [
    {
     "data": {
      "text/plain": [
       "array([11, 12, 13, 14])"
      ]
     },
     "execution_count": 111,
     "metadata": {},
     "output_type": "execute_result"
    }
   ],
   "source": [
    "arr[arr > 10]"
   ]
  },
  {
   "cell_type": "code",
   "execution_count": 112,
   "id": "802d137b-f7f7-4dee-bb37-e79be495e3b2",
   "metadata": {},
   "outputs": [
    {
     "data": {
      "text/plain": [
       "array([ 6,  9, 12])"
      ]
     },
     "execution_count": 112,
     "metadata": {},
     "output_type": "execute_result"
    }
   ],
   "source": [
    "arr[arr % 3 == 0]"
   ]
  },
  {
   "cell_type": "code",
   "execution_count": null,
   "id": "450df233-dd67-4045-a58f-8faa010b463a",
   "metadata": {},
   "outputs": [],
   "source": []
  },
  {
   "cell_type": "code",
   "execution_count": 113,
   "id": "e6303647-e3f6-41c4-968a-7ec096b4cf9b",
   "metadata": {},
   "outputs": [],
   "source": [
    "# Завдання:2\n",
    "# Створіть масив 3x3 з нулів, а потім замініть центральний елемент на 1. Відніміть 2 від усіх елементів."
   ]
  },
  {
   "cell_type": "code",
   "execution_count": 114,
   "id": "6bfc1624-4dbb-481d-82db-bd9183e6e4fa",
   "metadata": {},
   "outputs": [
    {
     "name": "stdout",
     "output_type": "stream",
     "text": [
      "[[0. 0. 0.]\n",
      " [0. 0. 0.]\n",
      " [0. 0. 0.]]\n"
     ]
    }
   ],
   "source": [
    "arr = np.zeros((3,3))\n",
    "print(arr)"
   ]
  },
  {
   "cell_type": "code",
   "execution_count": 115,
   "id": "26eb7f2c-1c38-4e0e-8329-e94d6533495e",
   "metadata": {},
   "outputs": [
    {
     "name": "stdout",
     "output_type": "stream",
     "text": [
      "[[0. 0. 0.]\n",
      " [0. 1. 0.]\n",
      " [0. 0. 0.]]\n"
     ]
    }
   ],
   "source": [
    "arr[1, 1] = 1\n",
    "print(arr)"
   ]
  },
  {
   "cell_type": "code",
   "execution_count": 116,
   "id": "863d6f69-8d79-41ba-a51b-5b2b60312e61",
   "metadata": {},
   "outputs": [
    {
     "name": "stdout",
     "output_type": "stream",
     "text": [
      "[[-2. -2. -2.]\n",
      " [-2. -1. -2.]\n",
      " [-2. -2. -2.]]\n"
     ]
    }
   ],
   "source": [
    "arr = arr - 2\n",
    "print(arr)"
   ]
  },
  {
   "cell_type": "code",
   "execution_count": null,
   "id": "77383455-56f3-4138-8e12-35810260c67f",
   "metadata": {},
   "outputs": [],
   "source": []
  },
  {
   "cell_type": "code",
   "execution_count": 1,
   "id": "8e28c0d3-78b8-407d-9ba5-aa9987352439",
   "metadata": {},
   "outputs": [],
   "source": [
    "# Завдання: 3\n",
    "# Створіть два масиви різних форм і спробуйте виконати арифметичні операції над ними. Поясніть результат."
   ]
  },
  {
   "cell_type": "code",
   "execution_count": 118,
   "id": "4f09b9a4-2fe4-470f-897f-02997ed67ddd",
   "metadata": {},
   "outputs": [
    {
     "name": "stdout",
     "output_type": "stream",
     "text": [
      "[[11 22 33]\n",
      " [14 25 36]]\n"
     ]
    }
   ],
   "source": [
    "arr1 = np.array([[1, 2, 3], [4, 5, 6]])\n",
    "arr2 = np.array([10, 20, 30])\n",
    "\n",
    "result_add = arr1 + arr2\n",
    "print(result_add)"
   ]
  },
  {
   "cell_type": "code",
   "execution_count": 119,
   "id": "d3432e39-39ee-4a53-b3be-ece24461a433",
   "metadata": {},
   "outputs": [
    {
     "name": "stdout",
     "output_type": "stream",
     "text": [
      "[[ 10  40  90]\n",
      " [ 40 100 180]]\n"
     ]
    }
   ],
   "source": [
    "result_multiply = arr1 * arr2\n",
    "print(result_multiply)"
   ]
  },
  {
   "cell_type": "code",
   "execution_count": null,
   "id": "79d8a14e-cd6f-440b-be65-dbf971157df6",
   "metadata": {},
   "outputs": [],
   "source": []
  }
 ],
 "metadata": {
  "kernelspec": {
   "display_name": "Python 3 (ipykernel)",
   "language": "python",
   "name": "python3"
  },
  "language_info": {
   "codemirror_mode": {
    "name": "ipython",
    "version": 3
   },
   "file_extension": ".py",
   "mimetype": "text/x-python",
   "name": "python",
   "nbconvert_exporter": "python",
   "pygments_lexer": "ipython3",
   "version": "3.10.5"
  }
 },
 "nbformat": 4,
 "nbformat_minor": 5
}
